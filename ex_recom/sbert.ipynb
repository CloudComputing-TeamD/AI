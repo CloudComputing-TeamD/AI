{
  "nbformat": 4,
  "nbformat_minor": 0,
  "metadata": {
    "colab": {
      "provenance": []
    },
    "kernelspec": {
      "name": "python3",
      "display_name": "Python 3"
    },
    "language_info": {
      "name": "python"
    }
  },
  "cells": [
    {
      "cell_type": "code",
      "execution_count": null,
      "metadata": {
        "id": "BGGAP4A5QGM1"
      },
      "outputs": [],
      "source": [
        "from fastapi import FastAPI, HTTPException\n",
        "from pydantic import BaseModel\n",
        "from typing import List, Dict, Any\n",
        "import pandas as pd\n",
        "import ast, os, glob\n",
        "import kagglehub\n",
        "from sentence_transformers import SentenceTransformer, util\n",
        "import uvicorn\n",
        "import nest_asyncio\n",
        "from pyngrok import ngrok\n",
        "from itertools import cycle, islice\n",
        "import random\n",
        "import traceback"
      ]
    },
    {
      "cell_type": "code",
      "source": [
        "nest_asyncio.apply()\n",
        "ngrok.set_auth_token(\"2wcLhKAkhn0MwFEwOlt2CXaabqk_4n42xCLtLqGuFKiKLfrik\")\n",
        "public_url = ngrok.connect(8000)\n",
        "print(f\"Swagger docs available at: {public_url}/docs\")"
      ],
      "metadata": {
        "colab": {
          "base_uri": "https://localhost:8080/"
        },
        "id": "-Bg0pVytYt9O",
        "outputId": "a5d69f96-05b9-44e5-c842-51284a59bc83"
      },
      "execution_count": null,
      "outputs": [
        {
          "output_type": "stream",
          "name": "stdout",
          "text": [
            "Swagger docs available at: NgrokTunnel: \"https://f7fd-34-16-154-44.ngrok-free.app\" -> \"http://localhost:8000\"/docs\n"
          ]
        }
      ]
    },
    {
      "cell_type": "code",
      "source": [
        "# ------------------ 데이터 로딩 및 전처리 ------------------\n",
        "DATASET_SLUG = \"omarxadel/fitness-exercises-dataset\"\n",
        "CACHE_BASE = os.path.expanduser(\"~/.cache/kagglehub/datasets\")\n",
        "CACHE_PATH = os.path.join(CACHE_BASE, *DATASET_SLUG.split('/'))\n",
        "if not os.path.exists(CACHE_PATH) or not glob.glob(f\"{CACHE_PATH}/*.csv\"):\n",
        "    DATA_PATH = kagglehub.dataset_download(DATASET_SLUG)\n",
        "else:\n",
        "    DATA_PATH = CACHE_PATH\n",
        "\n",
        "csv_files = glob.glob(os.path.join(DATA_PATH, \"*.csv\"))\n",
        "if not csv_files:\n",
        "    raise FileNotFoundError(f\"CSV 파일이 {DATA_PATH}에 없습니다.\")\n",
        "CSV_PATH = csv_files[0]\n",
        "print(f\"Loading CSV: {CSV_PATH}\")\n",
        "\n",
        "df = pd.read_csv(CSV_PATH)"
      ],
      "metadata": {
        "colab": {
          "base_uri": "https://localhost:8080/"
        },
        "id": "zmccQZMMRsrI",
        "outputId": "31a7d424-e839-4a11-89d1-08ae2b67e9c4"
      },
      "execution_count": null,
      "outputs": [
        {
          "output_type": "stream",
          "name": "stdout",
          "text": [
            "Loading CSV: /kaggle/input/fitness-exercises-dataset/exercises.csv\n"
          ]
        }
      ]
    },
    {
      "cell_type": "code",
      "source": [
        "# ------------------ 전처리 ------------------\n",
        "# target_parts: target + secondaryMuscles/*\n",
        "sec_cols = [c for c in df.columns if c.startswith('secondaryMuscles')]\n",
        "\n",
        "def to_list(x):\n",
        "    if pd.isna(x): return []\n",
        "    return [x] if isinstance(x, str) else ([] if not isinstance(x, list) else x)\n",
        "\n",
        "df['target_parts'] = df['target'].apply(to_list)\n",
        "for c in sec_cols:\n",
        "    df['target_parts'] += df[c].apply(to_list)\n",
        "# equipment\n",
        "df['equipment'] = df['equipment'].apply(lambda x: [x] if isinstance(x, str) else [])\n",
        "# youtube\n",
        "df['youtube'] = df['gifUrl']\n",
        "# level\n",
        "lvl_col = next((c for c in df.columns if 'difficulty' in c or c=='level'), None)\n",
        "df['level'] = df[lvl_col].astype(str).str.lower() if lvl_col else 'beginner'\n",
        "# type\n",
        "df['type'] = df['type'] if 'type' in df.columns else 'strength'\n",
        "# instruction\n",
        "instr_cols = [c for c in df.columns if c.startswith('instructions/')]\n",
        "for c in instr_cols: df[c]=df[c].fillna('')\n",
        "df['instruction'] = df[instr_cols].agg(' '.join, axis=1)"
      ],
      "metadata": {
        "colab": {
          "base_uri": "https://localhost:8080/"
        },
        "id": "uxfNn8snRv-Y",
        "outputId": "c1b0d5cf-3a62-4c1f-c4f0-824a80c8c00d"
      },
      "execution_count": null,
      "outputs": [
        {
          "output_type": "stream",
          "name": "stderr",
          "text": [
            "ERROR:asyncio:Task exception was never retrieved\n",
            "future: <Task finished name='Task-97' coro=<Server.serve() done, defined at /usr/local/lib/python3.11/dist-packages/uvicorn/server.py:68> exception=KeyboardInterrupt()>\n",
            "Traceback (most recent call last):\n",
            "  File \"/usr/local/lib/python3.11/dist-packages/uvicorn/main.py\", line 580, in run\n",
            "    server.run()\n",
            "  File \"/usr/local/lib/python3.11/dist-packages/uvicorn/server.py\", line 66, in run\n",
            "    return asyncio.run(self.serve(sockets=sockets))\n",
            "           ^^^^^^^^^^^^^^^^^^^^^^^^^^^^^^^^^^^^^^^^\n",
            "  File \"/usr/local/lib/python3.11/dist-packages/nest_asyncio.py\", line 30, in run\n",
            "    return loop.run_until_complete(task)\n",
            "           ^^^^^^^^^^^^^^^^^^^^^^^^^^^^^\n",
            "  File \"/usr/local/lib/python3.11/dist-packages/nest_asyncio.py\", line 92, in run_until_complete\n",
            "    self._run_once()\n",
            "  File \"/usr/local/lib/python3.11/dist-packages/nest_asyncio.py\", line 133, in _run_once\n",
            "    handle._run()\n",
            "  File \"/usr/lib/python3.11/asyncio/events.py\", line 84, in _run\n",
            "    self._context.run(self._callback, *self._args)\n",
            "  File \"/usr/lib/python3.11/asyncio/tasks.py\", line 360, in __wakeup\n",
            "    self.__step()\n",
            "  File \"/usr/lib/python3.11/asyncio/tasks.py\", line 277, in __step\n",
            "    result = coro.send(None)\n",
            "             ^^^^^^^^^^^^^^^\n",
            "  File \"/usr/local/lib/python3.11/dist-packages/uvicorn/server.py\", line 69, in serve\n",
            "    with self.capture_signals():\n",
            "  File \"/usr/lib/python3.11/contextlib.py\", line 144, in __exit__\n",
            "    next(self.gen)\n",
            "  File \"/usr/local/lib/python3.11/dist-packages/uvicorn/server.py\", line 330, in capture_signals\n",
            "    signal.raise_signal(captured_signal)\n",
            "KeyboardInterrupt\n"
          ]
        }
      ]
    },
    {
      "cell_type": "code",
      "source": [
        "# ------------------ SBERT 임베딩 ------------------\n",
        "model = SentenceTransformer('all-MiniLM-L6-v2')\n",
        "embs = model.encode(df['instruction'].tolist(), convert_to_tensor=True)\n",
        "\n",
        "goal_to_types = {\n",
        "    'muscle_gain': ['strength'],\n",
        "    'fat_loss': ['cardio','HIIT'],\n",
        "    'maintenance': ['strength','cardio','HIIT']\n",
        "}\n",
        "rep_ranges = {'muscle_gain':'4x8','fat_loss':'3x15','maintenance':'3x12'}\n",
        "# 한글→영어 부위 매핑\n",
        "kor2eng = {\n",
        "    '하체':['quadriceps','hamstrings','glutes','calves','adductors','abductors'],\n",
        "    '전신':None,  # None → full body 체크\n",
        "    '가슴':['pectoral'],\n",
        "    '등':['lats','traps','middle back','lower back'],\n",
        "    '어깨':['deltoids','traps'],\n",
        "    '팔':['biceps','triceps','forearms'],\n",
        "    '복부':['abs']\n",
        "}"
      ],
      "metadata": {
        "id": "6s9BdLNSSqH5"
      },
      "execution_count": null,
      "outputs": []
    },
    {
      "cell_type": "code",
      "source": [
        "# ------------------ FastAPI 앱 ------------------\n",
        "app = FastAPI(title=\"SBERT Workout Recommender\")\n",
        "class Req(BaseModel):\n",
        "    goal: str\n",
        "    preferred_parts: List[str]\n",
        "    level: str\n",
        "    frequency_per_week: int\n",
        "\n",
        "def build_query(goal, parts, level, freq):\n",
        "    return f\"{level} user, {freq} times/week focusing on {', '.join(parts)} for {goal}\"\n",
        "\n",
        "@app.post(\"/recommend\", response_model=Dict[str,Any])\n",
        "def recommend(r: Req):\n",
        "    try:\n",
        "        if r.frequency_per_week<1 or not r.preferred_parts: raise HTTPException(400,'빈도와 부위 확인')\n",
        "        if r.goal not in goal_to_types: raise HTTPException(400,'목표 오류')\n",
        "        # map parts\n",
        "        mapped=[]\n",
        "        for p in r.preferred_parts:\n",
        "            syn=kor2eng.get(p)\n",
        "            mapped.append(syn)  # None for full body\n",
        "        days=r.frequency_per_week\n",
        "        bins=list(islice(cycle(mapped), days))\n",
        "        # user emb\n",
        "        q=build_query(r.goal,r.preferred_parts,r.level,days)\n",
        "        uemb=model.encode(q,convert_to_tensor=True)\n",
        "        sims=util.cos_sim(uemb,embs)[0].cpu().numpy()\n",
        "        df['score']=sims\n",
        "        used=set()\n",
        "        schedule={}\n",
        "        for i,syns in enumerate(bins,1):\n",
        "            # part mask\n",
        "            if syns is None:\n",
        "                mask=df['target_parts'].apply(lambda L: len(L)>=3)\n",
        "            else:\n",
        "                mask=df['target_parts'].apply(lambda L:any(x in L for x in syns))\n",
        "            # type filter\n",
        "            types=goal_to_types[r.goal]\n",
        "            # Tier1: level+type\n",
        "            cand=df[mask & df['type'].isin(types) & (df['level']==r.level.lower())]\n",
        "            # Tier2: type only\n",
        "            if cand.empty: cand=df[mask & df['type'].isin(types)]\n",
        "            # Tier3: just mask\n",
        "            if cand.empty: cand=df[mask]\n",
        "            # remove used\n",
        "            cand=cand[~cand['name'].isin(used)]\n",
        "            # sample up to 5\n",
        "            tops=cand.sort_values('score', ascending=False).head(10)\n",
        "            picks=tops.sample(min(5,len(tops)),random_state=i).to_dict('records')\n",
        "            for ex in picks: used.add(ex['name'])\n",
        "            # prepare output\n",
        "            exs=[]\n",
        "            for ex in picks:\n",
        "                exs.append({k:ex[k] for k in ['name','target_parts','equipment','level','type']}\n",
        "                           |{'sets':rep_ranges[r.goal],'youtube':ex['youtube'],'score':ex['score']})\n",
        "            schedule[f'Day{i}']={'target_parts':[r.preferred_parts[(i-1)%len(r.preferred_parts)]],'exercises':exs}\n",
        "        return {'schedule':schedule}\n",
        "    except Exception:\n",
        "        traceback.print_exc()\n",
        "        raise HTTPException(500,'서버 오류')"
      ],
      "metadata": {
        "id": "WdVv0B5gTKiF"
      },
      "execution_count": null,
      "outputs": []
    },
    {
      "cell_type": "code",
      "source": [
        "if __name__ == '__main__':\n",
        "    uvicorn.run(app, host='0.0.0.0', port=8000)"
      ],
      "metadata": {
        "colab": {
          "base_uri": "https://localhost:8080/"
        },
        "id": "3praBW5YVZAV",
        "outputId": "61393dae-f7af-46e2-e492-f22ca378cdf2"
      },
      "execution_count": null,
      "outputs": [
        {
          "output_type": "stream",
          "name": "stderr",
          "text": [
            "INFO:     Started server process [197]\n",
            "INFO:     Waiting for application startup.\n",
            "INFO:     Application startup complete.\n",
            "INFO:     Uvicorn running on http://0.0.0.0:8000 (Press CTRL+C to quit)\n",
            "INFO:     Shutting down\n",
            "INFO:     Waiting for application shutdown.\n",
            "INFO:     Application shutdown complete.\n",
            "INFO:     Finished server process [197]\n"
          ]
        }
      ]
    }
  ]
}