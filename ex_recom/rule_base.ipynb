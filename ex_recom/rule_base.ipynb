{
  "cells": [
    {
      "cell_type": "code",
      "execution_count": null,
      "metadata": {
        "id": "xm7XSnWOrA3w"
      },
      "outputs": [],
      "source": [
        "from fastapi import FastAPI, HTTPException\n",
        "from pydantic import BaseModel\n",
        "from typing import List, Dict, Literal, Union\n",
        "import random\n",
        "from itertools import cycle, islice\n",
        "import traceback"
      ]
    },
    {
      "cell_type": "code",
      "execution_count": null,
      "metadata": {
        "id": "C3mXpVYzun_c"
      },
      "outputs": [],
      "source": [
        "import nest_asyncio\n",
        "from pyngrok import ngrok\n",
        "import uvicorn\n",
        "\n",
        "nest_asyncio.apply()\n",
        "ngrok.set_auth_token(\"2wcLhKAkhn0MwFEwOlt2CXaabqk_4n42xCLtLqGuFKiKLfrik\")\n",
        "\n",
        "app = FastAPI(title=\"Colab Weekly Workout API\")"
      ]
    },
    {
      "cell_type": "code",
      "execution_count": null,
      "metadata": {
        "id": "UDi6-e6nrH2Y"
      },
      "outputs": [],
      "source": [
        "# Pydantic 모델 정의\n",
        "class ExerciseItem(BaseModel):\n",
        "    name: str\n",
        "    default_equipment: str\n",
        "    possible_equipment: List[str]\n",
        "    sets: str\n",
        "\n",
        "class BeginnerWorkoutRequest(BaseModel):\n",
        "    email: str\n",
        "    goal: Literal[\"muscle_gain\", \"fat_loss\", \"maintenance\"]\n",
        "    preferred_parts: List[str]\n",
        "    gender: Literal[\"male\", \"female\"]\n",
        "    height: float\n",
        "    weight: float\n",
        "    level: Literal[\"beginner\", \"intermediate\", \"advanced\"]\n",
        "    frequency_per_week: int\n",
        "\n",
        "class FeedbackItem(BaseModel):\n",
        "    email: str\n",
        "    exercise_name: str\n",
        "    rating: Literal[\"good\", \"bad\", \"skip\"]"
      ]
    },
    {
      "cell_type": "code",
      "source": [
        "############# 피드백을 반영한 운동 루틴 추천 ###################\n",
        "feedback_db: Dict[str, Dict[str, int]] = {}\n",
        "\n",
        "@app.post(\"/feedback\")\n",
        "def receive_feedback(feedback: FeedbackItem):\n",
        "    user_data = feedback_db.setdefault(feedback.email, {})\n",
        "    score = {\"good\": +1, \"bad\": -1, \"skip\": -2}[feedback.rating]\n",
        "    user_data[feedback.exercise_name] = user_data.get(feedback.exercise_name, 0) + score\n",
        "    return {\"message\": \"Feedback received.\"}"
      ],
      "metadata": {
        "id": "Vge18JJM-4en"
      },
      "execution_count": null,
      "outputs": []
    },
    {
      "cell_type": "code",
      "execution_count": null,
      "metadata": {
        "id": "6__lYuZQrM4A"
      },
      "outputs": [],
      "source": [
        "# 목표별 세트x반복 매핑\n",
        "rep_ranges = {\n",
        "    \"muscle_gain\": \"4x8\",\n",
        "    \"fat_loss\": \"3x15\",\n",
        "    \"maintenance\": \"3x12\"\n",
        "}\n",
        "\n",
        "# rule-based 운동 DB(6개 부위, 각 5개 운동)\n",
        "exercise_db: Dict[str, List[Dict[str, Union[str, List[str]]]]] = {\n",
        "    \"가슴\": [\n",
        "        {\"name\": \"인클라인 벤치 프레스\", \"possible_equipment\": [\"바벨\", \"덤벨\"]},\n",
        "        {\"name\": \"벤치 프레스 (와이드 그립)\", \"possible_equipment\": [\"바벨\"]},\n",
        "        {\"name\": \"푸쉬업\", \"possible_equipment\": [\"맨몸\", \"덤벨\"]},\n",
        "        {\"name\": \"덤벨 플라이\", \"possible_equipment\": [\"덤벨\"]},\n",
        "        {\"name\": \"케이블 크로스오버\", \"possible_equipment\": [\"머신\"]},\n",
        "        {\"name\": \"딥스\", \"possible_equipment\": [\"맨몸\"]},\n",
        "        {\"name\": \"펙덱 플라이\", \"possible_equipment\": [\"머신\"]},\n",
        "        {\"name\": \"클로즈 그립 벤치 프레스\", \"possible_equipment\": [\"바벨\"]},\n",
        "    ],\n",
        "    \"등\": [\n",
        "        {\"name\": \"렛풀다운\", \"possible_equipment\": [\"머신\"]},\n",
        "        {\"name\": \"바벨 로우\", \"possible_equipment\": [\"바벨\"]},\n",
        "        {\"name\": \"풀업\", \"possible_equipment\": [\"맨몸\"]},\n",
        "        {\"name\": \"시티드 케이블 로우\", \"possible_equipment\": [\"머신\"]},\n",
        "        {\"name\": \"덤벨 풀오버\", \"possible_equipment\": [\"덤벨\"]},\n",
        "        {\"name\": \"T바 로우\", \"possible_equipment\": [\"바벨\"]},\n",
        "        {\"name\": \"원암 덤벨 로우\", \"possible_equipment\": [\"덤벨\"]},\n",
        "        {\"name\": \"데드리프트\", \"possible_equipment\": [\"바벨\"]},\n",
        "    ],\n",
        "    \"하체\": [\n",
        "        {\"name\": \"바벨 스쿼트\", \"possible_equipment\": [\"바벨\"]},\n",
        "        {\"name\": \"레그 프레스\", \"possible_equipment\": [\"머신\"]},\n",
        "        {\"name\": \"런지\", \"possible_equipment\": [\"덤벨\", \"맨몸\"]},\n",
        "        {\"name\": \"레그 컬\", \"possible_equipment\": [\"머신\"]},\n",
        "        {\"name\": \"덤벨 데드리프트\", \"possible_equipment\": [\"덤벨\"]},\n",
        "        {\"name\": \"레그 익스텐션\", \"possible_equipment\": [\"머신\"]},\n",
        "        {\"name\": \"스모 데드리프트\", \"possible_equipment\": [\"바벨\"]},\n",
        "        {\"name\": \"불가리안 스플릿 스쿼트\", \"possible_equipment\": [\"덤벨\", \"맨몸\"]},\n",
        "    ],\n",
        "    \"전신\": [\n",
        "        {\"name\": \"파머스 캐리\", \"possible_equipment\": [\"덤벨\"]},\n",
        "        {\"name\": \"버피\", \"possible_equipment\": [\"맨몸\"]},\n",
        "        {\"name\": \"스쿼트 투 프레스\", \"possible_equipment\": [\"덤벨\"]},\n",
        "        {\"name\": \"케틀벨 스윙\", \"possible_equipment\": [\"덤벨\"]},\n",
        "        {\"name\": \"마운틴 클라이머\", \"possible_equipment\": [\"맨몸\"]},\n",
        "        {\"name\": \"메디신볼 슬램\", \"possible_equipment\": [\"머신\"]},\n",
        "        {\"name\": \"배틀로프\", \"possible_equipment\": [\"기타\"]},\n",
        "        {\"name\": \"맨몸 서킷 트레이닝\", \"possible_equipment\": [\"맨몸\"]},\n",
        "    ],\n",
        "    \"어깨\": [\n",
        "        {\"name\": \"밀리터리 프레스\", \"possible_equipment\": [\"바벨\", \"덤벨\"]},\n",
        "        {\"name\": \"사이드 레터럴 레이즈\", \"possible_equipment\": [\"덤벨\"]},\n",
        "        {\"name\": \"오버헤드 프레스\", \"possible_equipment\": [\"머신\"]},\n",
        "        {\"name\": \"프론트 레이즈\", \"possible_equipment\": [\"덤벨\"]},\n",
        "        {\"name\": \"리버스 플라이\", \"possible_equipment\": [\"머신\"]},\n",
        "        {\"name\": \"덤벨 숄더 프레스\", \"possible_equipment\": [\"덤벨\"]},\n",
        "        {\"name\": \"페이스 풀\", \"possible_equipment\": [\"머신\"]},\n",
        "        {\"name\": \"핸드스탠드 푸쉬업\", \"possible_equipment\": [\"맨몸\"]},\n",
        "    ],\n",
        "    \"팔\": [\n",
        "        {\"name\": \"바벨 컬\", \"possible_equipment\": [\"바벨\"]},\n",
        "        {\"name\": \"덤벨 컬\", \"possible_equipment\": [\"덤벨\"]},\n",
        "        {\"name\": \"트라이셉스 푸시다운\", \"possible_equipment\": [\"머신\"]},\n",
        "        {\"name\": \"덤벨 킥백\", \"possible_equipment\": [\"덤벨\"]},\n",
        "        {\"name\": \"해머 컬\", \"possible_equipment\": [\"덤벨\"]},\n",
        "        {\"name\": \"컨센트레이션 컬\", \"possible_equipment\": [\"덤벨\"]},\n",
        "        {\"name\": \"스컬 크러셔\", \"possible_equipment\": [\"바벨\"]},\n",
        "        {\"name\": \"케이블 오버헤드 익스텐션\", \"possible_equipment\": [\"머신\"]},\n",
        "    ],\n",
        "    \"복부\": [\n",
        "        {\"name\": \"크런치\", \"possible_equipment\": [\"맨몸\"]},\n",
        "        {\"name\": \"레그 레이즈\", \"possible_equipment\": [\"맨몸\"]},\n",
        "        {\"name\": \"러시안 트위스트\", \"possible_equipment\": [\"맨몸\", \"덤벨\"]},\n",
        "        {\"name\": \"플랭크\", \"possible_equipment\": [\"맨몸\"]},\n",
        "        {\"name\": \"케이블 크런치\", \"possible_equipment\": [\"머신\"]},\n",
        "        {\"name\": \"바이시클 크런치\", \"possible_equipment\": [\"맨몸\"]},\n",
        "        {\"name\": \"V업\", \"possible_equipment\": [\"맨몸\"]},\n",
        "        {\"name\": \"행잉 레그 레이즈\", \"possible_equipment\": [\"맨몸\"]},\n",
        "    ],\n",
        "}"
      ]
    },
    {
      "cell_type": "code",
      "execution_count": null,
      "metadata": {
        "id": "oWr4Pa5ksi7g"
      },
      "outputs": [],
      "source": [
        "# 초보자 필터링\n",
        "def filter_by_level(candidates, level):\n",
        "    if level == \"beginner\":\n",
        "        return [ex for ex in candidates if any(eq in [\"맨몸\", \"머신\"] for eq in ex[\"possible_equipment\"])]\n",
        "    return candidates\n",
        "\n",
        "def get_filtered_candidates(email, candidates):\n",
        "    user_data = feedback_db.get(email, {})\n",
        "    return [ex for ex in candidates if user_data.get(ex[\"name\"], 0) > -2]\n",
        "\n",
        "def weighted_sample(email, ex_list):\n",
        "    user_data = feedback_db.get(email, {})\n",
        "    weights = [max(1 + user_data.get(ex[\"name\"], 0), 1) for ex in ex_list]\n",
        "    return random.choices(ex_list, weights=weights, k=1)[0]\n",
        "\n",
        "def generate_daily_routine(email, goal, level, part_list):\n",
        "    routine = []\n",
        "    added_names = set()\n",
        "\n",
        "    # 1) 부위별 1개 추천\n",
        "    for part in part_list:\n",
        "        candidates = get_filtered_candidates(email, filter_by_level(exercise_db.get(part, []), level))\n",
        "        if candidates:\n",
        "            ex = weighted_sample(email, candidates)\n",
        "            routine.append(ExerciseItem(\n",
        "                name=ex[\"name\"],\n",
        "                default_equipment=ex[\"possible_equipment\"][0],\n",
        "                possible_equipment=ex[\"possible_equipment\"],\n",
        "                sets=rep_ranges[goal]\n",
        "            ))\n",
        "            added_names.add(ex[\"name\"])\n",
        "\n",
        "    # 2) 부족하면 해당 부위에서 보충\n",
        "    pool = [\n",
        "        ex for part in part_list\n",
        "        for ex in get_filtered_candidates(email, filter_by_level(exercise_db.get(part, []), level))\n",
        "        if ex[\"name\"] not in added_names\n",
        "    ]\n",
        "    while len(routine) < 5 and pool:\n",
        "        ex = weighted_sample(email, pool)\n",
        "        if ex[\"name\"] not in added_names:\n",
        "            routine.append(ExerciseItem(\n",
        "                name=ex[\"name\"],\n",
        "                default_equipment=ex[\"possible_equipment\"][0],\n",
        "                possible_equipment=ex[\"possible_equipment\"],\n",
        "                sets=rep_ranges[goal]\n",
        "            ))\n",
        "            added_names.add(ex[\"name\"])\n",
        "            pool = [e for e in pool if e[\"name\"] not in added_names]\n",
        "\n",
        "    # 3) 그래도 부족하면 전체 DB에서 보충\n",
        "    if len(routine) < 5:\n",
        "        all_exs = [\n",
        "            ex for part in exercise_db.values()\n",
        "            for ex in get_filtered_candidates(email, filter_by_level(part, level))\n",
        "            if ex[\"name\"] not in added_names\n",
        "        ]\n",
        "        while len(routine) < 5 and all_exs:\n",
        "            ex = weighted_sample(email, all_exs)\n",
        "            if ex[\"name\"] not in added_names:\n",
        "                routine.append(ExerciseItem(\n",
        "                    name=ex[\"name\"],\n",
        "                    default_equipment=ex[\"possible_equipment\"][0],\n",
        "                    possible_equipment=ex[\"possible_equipment\"],\n",
        "                    sets=rep_ranges[goal]\n",
        "                ))\n",
        "                added_names.add(ex[\"name\"])\n",
        "                all_exs = [e for e in all_exs if e[\"name\"] not in added_names]\n",
        "\n",
        "    return routine"
      ]
    },
    {
      "cell_type": "code",
      "execution_count": null,
      "metadata": {
        "id": "vev3YHIetCsw"
      },
      "outputs": [],
      "source": [
        "@app.post(\n",
        "    \"/generate\",\n",
        "    response_model=Dict[str, Dict[str, Union[List[str], List[ExerciseItem]]]],\n",
        "    summary=\"요일별 운동 루틴 추천\"\n",
        ")\n",
        "def generate(req: BeginnerWorkoutRequest):\n",
        "    parts = req.preferred_parts.copy()\n",
        "    days = req.frequency_per_week\n",
        "    if days <= 0 or not parts:\n",
        "        raise HTTPException(400, \"부위와 주당 운동 횟수는 1개 이상이어야 합니다.\")\n",
        "\n",
        "    # 1) 부위 분배: preferred_parts vs days 관계에 따라 자동 분기\n",
        "    large_muscles = {\"가슴\", \"등\", \"하체\", \"어깨\"}\n",
        "\n",
        "    if len(parts) <= days:\n",
        "        # 부위 개수 ≤ 일수: 하루 1개씩 순환 할당\n",
        "        bins = [[part] for part in islice(cycle(parts), days)]\n",
        "    else:\n",
        "        # 부위 개수 > 일수: divmod → 최대 2개, 대/소근육 조합\n",
        "        base, rem = divmod(len(parts), days)\n",
        "        sizes = [base + (1 if i < rem else 0) for i in range(days)]\n",
        "        large = [p for p in parts if p in large_muscles]\n",
        "        small = [p for p in parts if p not in large_muscles]\n",
        "        bins = []\n",
        "        for sz in sizes:\n",
        "            grp = []\n",
        "            if sz == 2 and small and large:\n",
        "                grp += [small.pop(0), large.pop(0)]\n",
        "            else:\n",
        "                for _ in range(sz):\n",
        "                    if large: grp.append(large.pop(0))\n",
        "                    elif small: grp.append(small.pop(0))\n",
        "            bins.append(grp)\n",
        "\n",
        "    # 2) 같은 대근육 연속 방지\n",
        "    for _ in range(50):\n",
        "        if all(not(set(bins[i]) & set(bins[i+1]) & large_muscles) for i in range(len(bins)-1)):\n",
        "            break\n",
        "        random.shuffle(bins)\n",
        "\n",
        "    # 3) 최종 스케줄 생성\n",
        "    schedule = {\n",
        "        f\"Day{i+1}\": {\n",
        "            \"target_parts\": group,\n",
        "            \"exercises\": generate_daily_routine(req.email, req.goal, req.level, group)\n",
        "        } for i, group in enumerate(bins)\n",
        "    }\n",
        "\n",
        "    return schedule"
      ]
    },
    {
      "cell_type": "code",
      "execution_count": null,
      "metadata": {
        "colab": {
          "base_uri": "https://localhost:8080/"
        },
        "id": "_N6ArGOqraOQ",
        "outputId": "7b56dac3-ab61-400b-f5cb-a692e18f5a6c"
      },
      "outputs": [
        {
          "output_type": "stream",
          "name": "stdout",
          "text": [
            "Swagger UI: NgrokTunnel: \"https://30b7-34-85-141-97.ngrok-free.app\" -> \"http://localhost:8000\"/docs\n"
          ]
        },
        {
          "output_type": "stream",
          "name": "stderr",
          "text": [
            "INFO:     Started server process [2001]\n",
            "INFO:     Waiting for application startup.\n",
            "INFO:     Application startup complete.\n",
            "INFO:     Uvicorn running on http://0.0.0.0:8000 (Press CTRL+C to quit)\n"
          ]
        },
        {
          "output_type": "stream",
          "name": "stdout",
          "text": [
            "INFO:     1.241.21.88:0 - \"GET /docs HTTP/1.1\" 200 OK\n",
            "INFO:     1.241.21.88:0 - \"GET /openapi.json HTTP/1.1\" 200 OK\n",
            "INFO:     1.241.21.88:0 - \"POST /generate HTTP/1.1\" 200 OK\n",
            "INFO:     1.241.21.88:0 - \"POST /feedback HTTP/1.1\" 200 OK\n",
            "INFO:     1.241.21.88:0 - \"POST /generate HTTP/1.1\" 200 OK\n",
            "INFO:     1.241.21.88:0 - \"POST /generate HTTP/1.1\" 200 OK\n",
            "INFO:     1.241.21.88:0 - \"POST /feedback HTTP/1.1\" 200 OK\n",
            "INFO:     1.241.21.88:0 - \"POST /generate HTTP/1.1\" 200 OK\n",
            "INFO:     1.241.21.88:0 - \"POST /generate HTTP/1.1\" 200 OK\n",
            "INFO:     1.241.21.88:0 - \"POST /generate HTTP/1.1\" 200 OK\n",
            "INFO:     1.241.21.88:0 - \"POST /generate HTTP/1.1\" 200 OK\n",
            "INFO:     1.241.21.88:0 - \"POST /generate HTTP/1.1\" 200 OK\n",
            "INFO:     1.241.21.88:0 - \"POST /generate HTTP/1.1\" 200 OK\n",
            "INFO:     1.241.21.88:0 - \"POST /generate HTTP/1.1\" 200 OK\n"
          ]
        },
        {
          "output_type": "stream",
          "name": "stderr",
          "text": [
            "WARNING:pyngrok.process.ngrok:t=2025-05-06T10:12:17+0000 lvl=warn msg=\"Stopping forwarder\" name=http-8000-4d3345a0-8763-40e8-a341-0696080da533 acceptErr=\"failed to accept connection: Listener closed\"\n",
            "WARNING:pyngrok.process.ngrok:t=2025-05-06T10:12:17+0000 lvl=warn msg=\"Error restarting forwarder\" name=http-8000-4d3345a0-8763-40e8-a341-0696080da533 err=\"failed to start tunnel: session closed\"\n",
            "INFO:     Shutting down\n",
            "INFO:     Waiting for application shutdown.\n",
            "INFO:     Application shutdown complete.\n",
            "INFO:     Finished server process [2001]\n"
          ]
        }
      ],
      "source": [
        "public_url = ngrok.connect(8000)\n",
        "print(f\"Swagger UI: {public_url}/docs\")\n",
        "\n",
        "uvicorn.run(app, host=\"0.0.0.0\", port=8000)"
      ]
    }
  ],
  "metadata": {
    "colab": {
      "provenance": []
    },
    "kernelspec": {
      "display_name": "Python 3",
      "name": "python3"
    },
    "language_info": {
      "name": "python"
    }
  },
  "nbformat": 4,
  "nbformat_minor": 0
}