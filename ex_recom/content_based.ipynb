{
  "nbformat": 4,
  "nbformat_minor": 0,
  "metadata": {
    "colab": {
      "provenance": []
    },
    "kernelspec": {
      "name": "python3",
      "display_name": "Python 3"
    },
    "language_info": {
      "name": "python"
    }
  },
  "cells": [
    {
      "cell_type": "code",
      "execution_count": null,
      "metadata": {
        "id": "Uq2598c6_JEE"
      },
      "outputs": [],
      "source": [
        "from fastapi import FastAPI, HTTPException\n",
        "from pydantic import BaseModel\n",
        "from typing import List, Dict, Any\n",
        "from sklearn.feature_extraction.text import CountVectorizer\n",
        "from sklearn.metrics.pairwise import cosine_similarity\n",
        "import pandas as pd\n",
        "import uvicorn\n",
        "from itertools import cycle, islice\n",
        "import traceback\n",
        "import numpy as np"
      ]
    },
    {
      "cell_type": "code",
      "source": [
        "import nest_asyncio\n",
        "from pyngrok import ngrok\n",
        "\n",
        "nest_asyncio.apply()\n",
        "ngrok.set_auth_token(\"2wcLhKAkhn0MwFEwOlt2CXaabqk_4n42xCLtLqGuFKiKLfrik\")"
      ],
      "metadata": {
        "id": "n4QHSlRCDdi3"
      },
      "execution_count": null,
      "outputs": []
    },
    {
      "cell_type": "code",
      "source": [
        "# ---------------------- 예시 운동 데이터 ----------------------\n",
        "exercise_data = [\n",
        "    {\"id\": \"ex001\", \"name\": \"푸쉬업\", \"target_parts\": [\"가슴\", \"전신\"], \"equipment\": [\"맨몸\", \"덤벨\"], \"level\": \"beginner\", \"difficulty_score\": 1, \"type\": \"strength\", \"avg_duration\": 2, \"calories_per_min\": 8, \"youtube\": \"https://www.youtube.com/watch?v=IODxDxX7oi4\"},\n",
        "    {\"id\": \"ex002\", \"name\": \"크런치\", \"target_parts\": [\"복부\"], \"equipment\": [\"맨몸\"], \"level\": \"beginner\", \"difficulty_score\": 1, \"type\": \"strength\", \"avg_duration\": 1, \"calories_per_min\": 5, \"youtube\": \"https://www.youtube.com/watch?v=Xyd_fa5zoEU\"},\n",
        "    {\"id\": \"ex003\", \"name\": \"스쿼트\", \"target_parts\": [\"하체\"], \"equipment\": [\"맨몸\", \"바벨\"], \"level\": \"intermediate\", \"difficulty_score\": 2, \"type\": \"strength\", \"avg_duration\": 3, \"calories_per_min\": 7, \"youtube\": \"https://www.youtube.com/watch?v=aclHkVaku9U\"},\n",
        "    {\"id\": \"ex004\", \"name\": \"버피\", \"target_parts\": [\"전신\"], \"equipment\": [\"맨몸\"], \"level\": \"advanced\", \"difficulty_score\": 3, \"type\": \"HIIT\", \"avg_duration\": 1, \"calories_per_min\": 12, \"youtube\": \"https://www.youtube.com/watch?v=dZgVxmf6jkA\"},\n",
        "    {\"id\": \"ex005\", \"name\": \"런지\", \"target_parts\": [\"하체\"], \"equipment\": [\"맨몸\", \"덤벨\"], \"level\": \"beginner\", \"difficulty_score\": 1, \"type\": \"strength\", \"avg_duration\": 2, \"calories_per_min\": 6, \"youtube\": \"https://www.youtube.com/watch?v=QOVaHwm-Q6U\"},\n",
        "    {\"id\": \"ex006\", \"name\": \"플랭크\", \"target_parts\": [\"복부\"], \"equipment\": [\"맨몸\"], \"level\": \"beginner\", \"difficulty_score\": 1, \"type\": \"strength\", \"avg_duration\": 2, \"calories_per_min\": 5, \"youtube\": \"https://www.youtube.com/watch?v=pSHjTRCQxIw\"},\n",
        "    {\"id\": \"ex007\", \"name\": \"자전거 크런치\", \"target_parts\": [\"복부\"], \"equipment\": [\"맨몸\"], \"level\": \"intermediate\", \"difficulty_score\": 2, \"type\": \"cardio\", \"avg_duration\": 2, \"calories_per_min\": 9, \"youtube\": \"https://www.youtube.com/watch?v=9FGilxCbdz8\"},\n",
        "    {\"id\": \"ex008\", \"name\": \"마운틴 클라이머\", \"target_parts\": [\"전신\"], \"equipment\": [\"맨몸\"], \"level\": \"intermediate\", \"difficulty_score\": 2, \"type\": \"HIIT\", \"avg_duration\": 1, \"calories_per_min\": 10, \"youtube\": \"https://www.youtube.com/watch?v=nmwgirgXLYM\"},\n",
        "    {\"id\": \"ex009\", \"name\": \"점핑잭\", \"target_parts\": [\"전신\"], \"equipment\": [\"맨몸\"], \"level\": \"beginner\", \"difficulty_score\": 1, \"type\": \"cardio\", \"avg_duration\": 1, \"calories_per_min\": 7, \"youtube\": \"https://www.youtube.com/watch?v=c4DAnQ6DtF8\"},\n",
        "    {\"id\": \"ex010\", \"name\": \"스텝업\", \"target_parts\": [\"하체\"], \"equipment\": [\"맨몸\", \"스텝박스\"], \"level\": \"beginner\", \"difficulty_score\": 1, \"type\": \"cardio\", \"avg_duration\": 2, \"calories_per_min\": 6, \"youtube\": \"https://www.youtube.com/watch?v=dQqApCGd5Ss\"},\n",
        "    {\"id\": \"ex011\", \"name\": \"트라이셉스 딥스\", \"target_parts\": [\"팔\"], \"equipment\": [\"맨몸\"], \"level\": \"intermediate\", \"difficulty_score\": 2, \"type\": \"strength\", \"avg_duration\": 2, \"calories_per_min\": 5, \"youtube\": \"https://www.youtube.com/watch?v=tKjcgfu44sI\"},\n",
        "    {\"id\": \"ex012\", \"name\": \"벤치 프레스\", \"target_parts\": [\"가슴\"], \"equipment\": [\"바벨\"], \"level\": \"intermediate\", \"difficulty_score\": 2, \"type\": \"strength\", \"avg_duration\": 3, \"calories_per_min\": 8, \"youtube\": \"https://www.youtube.com/watch?v=rT7DgCr-3pg\"},\n",
        "    {\"id\": \"ex013\", \"name\": \"레그 프레스\", \"target_parts\": [\"하체\"], \"equipment\": [\"머신\"], \"level\": \"intermediate\", \"difficulty_score\": 2, \"type\": \"strength\", \"avg_duration\": 3, \"calories_per_min\": 7, \"youtube\": \"https://www.youtube.com/watch?v=IZxyjW7MPJQ\"},\n",
        "    {\"id\": \"ex014\", \"name\": \"풀업\", \"target_parts\": [\"등\"], \"equipment\": [\"맨몸\"], \"level\": \"advanced\", \"difficulty_score\": 3, \"type\": \"strength\", \"avg_duration\": 2, \"calories_per_min\": 9, \"youtube\": \"https://www.youtube.com/watch?v=eGo4IYlbE5g\"},\n",
        "    {\"id\": \"ex015\", \"name\": \"바벨 로우\", \"target_parts\": [\"등\"], \"equipment\": [\"바벨\"], \"level\": \"intermediate\", \"difficulty_score\": 2, \"type\": \"strength\", \"avg_duration\": 3, \"calories_per_min\": 8, \"youtube\": \"https://www.youtube.com/watch?v=vT2GjY_Umpw\"},\n",
        "    {\"id\": \"ex016\", \"name\": \"사이드 런지\", \"target_parts\": [\"하체\"], \"equipment\": [\"맨몸\", \"덤벨\"], \"level\": \"beginner\", \"difficulty_score\": 1, \"type\": \"cardio\", \"avg_duration\": 2, \"calories_per_min\": 7, \"youtube\": \"https://www.youtube.com/watch?v=rvdv4WfIQJ0\"},\n",
        "    {\"id\": \"ex017\", \"name\": \"킥백\", \"target_parts\": [\"하체\"], \"equipment\": [\"맨몸\"], \"level\": \"beginner\", \"difficulty_score\": 1, \"type\": \"strength\", \"avg_duration\": 1, \"calories_per_min\": 5, \"youtube\": \"https://www.youtube.com/watch?v=1yHqLNL6K_A\"},\n",
        "    {\"id\": \"ex018\", \"name\": \"벤치 딥스\", \"target_parts\": [\"팔\"], \"equipment\": [\"맨몸\"] , \"level\": \"beginner\", \"difficulty_score\": 1, \"type\": \"strength\", \"avg_duration\": 1, \"calories_per_min\": 5, \"youtube\": \"https://www.youtube.com/watch?v=6kALZikXxLc\"},\n",
        "    {\"id\": \"ex019\", \"name\": \"점프 스쿼트\", \"target_parts\": [\"하체\", \"전신\"], \"equipment\": [\"맨몸\"], \"level\": \"intermediate\", \"difficulty_score\": 2, \"type\": \"HIIT\", \"avg_duration\": 1, \"calories_per_min\": 10, \"youtube\": \"https://www.youtube.com/watch?v=U4s4mEQ5VqU\"},\n",
        "    {\"id\": \"ex020\", \"name\": \"케틀벨 스윙\", \"target_parts\": [\"하체\", \"전신\"], \"equipment\": [\"케틀벨\"], \"level\": \"intermediate\", \"difficulty_score\": 2, \"type\": \"cardio\", \"avg_duration\": 2, \"calories_per_min\": 9, \"youtube\": \"https://www.youtube.com/watch?v=YSx3nFzxZBg\"},\n",
        "    {\"id\": \"ex021\", \"name\": \"로잉 머신\", \"target_parts\": [\"전신\"], \"equipment\": [\"머신\"], \"level\": \"intermediate\", \"difficulty_score\": 2, \"type\": \"cardio\", \"avg_duration\": 5, \"calories_per_min\": 11, \"youtube\": \"https://www.youtube.com/watch?v=Ivuy8VWB3xA\"},\n",
        "    {\"id\": \"ex022\", \"name\": \"스텝 점프\", \"target_parts\": [\"하체\"], \"equipment\": [\"스텝박스\"], \"level\": \"intermediate\", \"difficulty_score\": 2, \"type\": \"HIIT\", \"avg_duration\": 2, \"calories_per_min\": 9, \"youtube\": \"https://www.youtube.com/watch?v=aVUx3Et8aks\"},\n",
        "    {\"id\": \"ex023\", \"name\": \"덤벨 컬\", \"target_parts\": [\"팔\"], \"equipment\": [\"덤벨\"], \"level\": \"beginner\", \"difficulty_score\": 1, \"type\": \"strength\", \"avg_duration\": 2, \"calories_per_min\": 4, \"youtube\": \"https://www.youtube.com/watch?v=ykJmrZ5v0Oo\"},\n",
        "    {\"id\": \"ex024\", \"name\": \"스파이더 크롤\", \"target_parts\": [\"전신\"], \"equipment\": [\"맨몸\"], \"level\": \"intermediate\", \"difficulty_score\": 2, \"type\": \"HIIT\", \"avg_duration\": 2, \"calories_per_min\": 10, \"youtube\": \"https://www.youtube.com/watch?v=w2TQ0d0LxP0\"},\n",
        "    {\"id\": \"ex025\", \"name\": \"로프 스매시\", \"target_parts\": [\"전신\"], \"equipment\": [\"배틀로프\"], \"level\": \"advanced\", \"difficulty_score\": 3, \"type\": \"HIIT\", \"avg_duration\": 1, \"calories_per_min\": 12, \"youtube\": \"https://www.youtube.com/watch?v=ZoUoDE7H9Oo\"},\n",
        "    {\"id\": \"ex026\", \"name\": \"체스트 플라이\", \"target_parts\": [\"가슴\"], \"equipment\": [\"머신\"], \"level\": \"intermediate\", \"difficulty_score\": 2, \"type\": \"strength\", \"avg_duration\": 2, \"calories_per_min\": 6, \"youtube\": \"https://www.youtube.com/watch?v=eozdVDA78K0\"},\n",
        "    {\"id\": \"ex027\", \"name\": \"레그 컬\", \"target_parts\": [\"하체\"], \"equipment\": [\"머신\"], \"level\": \"beginner\", \"difficulty_score\": 1, \"type\": \"strength\", \"avg_duration\": 2, \"calories_per_min\": 5, \"youtube\": \"https://www.youtube.com/watch?v=1Tq3QdYUuHs\"},\n",
        "    {\"id\": \"ex028\", \"name\": \"케이블 크런치\", \"target_parts\": [\"복부\"], \"equipment\": [\"케이블\"], \"level\": \"intermediate\", \"difficulty_score\": 2, \"type\": \"strength\", \"avg_duration\": 2, \"calories_per_min\": 6, \"youtube\": \"https://www.youtube.com/watch?v=U3HlEF_E9fo\"},\n",
        "    {\"id\": \"ex029\", \"name\": \"스탠딩 바이시클 크런치\", \"target_parts\": [\"복부\"], \"equipment\": [\"맨몸\"], \"level\": \"beginner\", \"difficulty_score\": 1, \"type\": \"cardio\", \"avg_duration\": 2, \"calories_per_min\": 8, \"youtube\": \"https://www.youtube.com/watch?v=z6PJMT2y8GQ\"},\n",
        "    {\"id\": \"ex030\", \"name\": \"하이 니즈\", \"target_parts\": [\"전신\"], \"equipment\": [\"맨몸\"], \"level\": \"intermediate\", \"difficulty_score\": 2, \"type\": \"HIIT\", \"avg_duration\": 1, \"calories_per_min\": 11, \"youtube\": \"https://www.youtube.com/watch?v=8opcQdC-V-U\"}\n",
        "]\n",
        "\n",
        "# 목표별 세트×반복 매핑\n",
        "rep_ranges = {\n",
        "    \"muscle_gain\": \"4x8\",\n",
        "    \"fat_loss\": \"3x15\",\n",
        "    \"maintenance\": \"3x12\"\n",
        "}\n",
        "\n",
        "# 목표별 추천 타입 매핑\n",
        "goal_to_types = {\n",
        "    \"muscle_gain\": [\"strength\"],\n",
        "    \"fat_loss\": [\"cardio\", \"HIIT\"],\n",
        "    \"maintenance\": [\"strength\", \"cardio\", \"HIIT\"]\n",
        "}"
      ],
      "metadata": {
        "colab": {
          "base_uri": "https://localhost:8080/"
        },
        "id": "oKlvZBsS_sCs",
        "outputId": "6e90570c-50cf-4fec-a1e2-76c5f473bffd"
      },
      "execution_count": null,
      "outputs": [
        {
          "output_type": "stream",
          "name": "stderr",
          "text": [
            "ERROR:asyncio:Task exception was never retrieved\n",
            "future: <Task finished name='Task-53' coro=<Server.serve() done, defined at /usr/local/lib/python3.11/dist-packages/uvicorn/server.py:68> exception=KeyboardInterrupt()>\n",
            "Traceback (most recent call last):\n",
            "  File \"/usr/local/lib/python3.11/dist-packages/uvicorn/main.py\", line 580, in run\n",
            "    server.run()\n",
            "  File \"/usr/local/lib/python3.11/dist-packages/uvicorn/server.py\", line 66, in run\n",
            "    return asyncio.run(self.serve(sockets=sockets))\n",
            "           ^^^^^^^^^^^^^^^^^^^^^^^^^^^^^^^^^^^^^^^^\n",
            "  File \"/usr/local/lib/python3.11/dist-packages/nest_asyncio.py\", line 30, in run\n",
            "    return loop.run_until_complete(task)\n",
            "           ^^^^^^^^^^^^^^^^^^^^^^^^^^^^^\n",
            "  File \"/usr/local/lib/python3.11/dist-packages/nest_asyncio.py\", line 92, in run_until_complete\n",
            "    self._run_once()\n",
            "  File \"/usr/local/lib/python3.11/dist-packages/nest_asyncio.py\", line 133, in _run_once\n",
            "    handle._run()\n",
            "  File \"/usr/lib/python3.11/asyncio/events.py\", line 84, in _run\n",
            "    self._context.run(self._callback, *self._args)\n",
            "  File \"/usr/lib/python3.11/asyncio/tasks.py\", line 360, in __wakeup\n",
            "    self.__step()\n",
            "  File \"/usr/lib/python3.11/asyncio/tasks.py\", line 277, in __step\n",
            "    result = coro.send(None)\n",
            "             ^^^^^^^^^^^^^^^\n",
            "  File \"/usr/local/lib/python3.11/dist-packages/uvicorn/server.py\", line 69, in serve\n",
            "    with self.capture_signals():\n",
            "  File \"/usr/lib/python3.11/contextlib.py\", line 144, in __exit__\n",
            "    next(self.gen)\n",
            "  File \"/usr/local/lib/python3.11/dist-packages/uvicorn/server.py\", line 330, in capture_signals\n",
            "    signal.raise_signal(captured_signal)\n",
            "KeyboardInterrupt\n"
          ]
        }
      ]
    },
    {
      "cell_type": "code",
      "source": [
        "# ------------------ 데이터프레임 및 벡터화 ------------------\n",
        "df = pd.DataFrame(exercise_data)\n",
        "# features: target_parts + equipment + level + type + difficulty_score + avg_duration + calories_per_min\n",
        "def make_feature(r):\n",
        "    parts = \" \".join(r[\"target_parts\"])\n",
        "    equip = \" \".join(r[\"equipment\"])\n",
        "    return f\"{parts} {equip} {r['level']} {r['type']} score{r['difficulty_score']} dur{r['avg_duration']} cal{r['calories_per_min']}\"\n",
        "df[\"features\"] = df.apply(make_feature, axis=1)\n",
        "\n",
        "vectorizer = CountVectorizer()\n",
        "X = vectorizer.fit_transform(df[\"features\"])"
      ],
      "metadata": {
        "id": "IHFHzSes_y02"
      },
      "execution_count": null,
      "outputs": []
    },
    {
      "cell_type": "code",
      "source": [
        "app = FastAPI(title=\"MVP Enhanced Content-Based Workout Recommender\")\n",
        "\n",
        "class RecommendationRequest(BaseModel):\n",
        "    goal: str\n",
        "    preferred_parts: List[str]\n",
        "    level: str\n",
        "    equipment: str\n",
        "    frequency_per_week: int\n",
        "    top_k: int = 3\n",
        "\n",
        "@app.post(\"/recommend\", response_model=Dict[str, Any])\n",
        "def recommend(req: RecommendationRequest):\n",
        "    try:\n",
        "        if req.frequency_per_week <= 0 or not req.preferred_parts:\n",
        "            raise HTTPException(status_code=400, detail=\"부위와 주당 운동 일수는 1개 이상이어야 합니다.\")\n",
        "        if req.goal not in rep_ranges:\n",
        "            raise HTTPException(status_code=400, detail=\"지원하지 않는 목표입니다.\")\n",
        "\n",
        "        days = req.frequency_per_week\n",
        "        bins = [[part] for part in islice(cycle(req.preferred_parts), days)]\n",
        "\n",
        "        queries = [f\"{p} {req.equipment} {req.level} {t}\" for p in req.preferred_parts for t in goal_to_types.get(req.goal, [])]\n",
        "        user_vecs = vectorizer.transform(queries)\n",
        "        user_profile = np.asarray(user_vecs.mean(axis=0))  # fix np.matrix issue\n",
        "\n",
        "        sims = cosine_similarity(user_profile, X).flatten()\n",
        "        df[\"score\"] = sims\n",
        "\n",
        "        schedule: Dict[str, Any] = {}\n",
        "        for i, parts in enumerate(bins, start=1):\n",
        "            recs = []\n",
        "            for part in parts:\n",
        "                try:\n",
        "                    base_types = goal_to_types.get(req.goal, [])\n",
        "                    fallback_types = base_types + [\"strength\"]  # fallback 추가\n",
        "\n",
        "                    # 기본 필터\n",
        "                    mask = (\n",
        "                        df[\"target_parts\"].apply(lambda x: isinstance(x, list) and part in x) &\n",
        "                        df[\"equipment\"].apply(lambda x: isinstance(x, list) and req.equipment in x) &\n",
        "                        df[\"type\"].isin(base_types)\n",
        "                    )\n",
        "                    candidates = df[mask].sort_values(\"score\", ascending=False).drop_duplicates(\"name\").head(req.top_k)\n",
        "\n",
        "                    # 부족하면 fallback 타입 사용\n",
        "                    if len(candidates) < req.top_k:\n",
        "                        fallback_mask = (\n",
        "                            df[\"target_parts\"].apply(lambda x: isinstance(x, list) and part in x) &\n",
        "                            df[\"equipment\"].apply(lambda x: isinstance(x, list) and req.equipment in x) &\n",
        "                            df[\"type\"].isin(fallback_types)\n",
        "                        )\n",
        "                        extra = df[fallback_mask].sort_values(\"score\", ascending=False).drop_duplicates(\"name\")\n",
        "                        extra = extra[~extra[\"name\"].isin(candidates[\"name\"])]\n",
        "                        candidates = pd.concat([candidates, extra]).head(req.top_k)\n",
        "\n",
        "                    if not candidates.empty:\n",
        "                        for _, row in candidates.iterrows():\n",
        "                            recs.append({\n",
        "                                \"id\": row[\"id\"],\n",
        "                                \"name\": row[\"name\"],\n",
        "                                \"target_parts\": row[\"target_parts\"],\n",
        "                                \"equipment\": row[\"equipment\"],\n",
        "                                \"level\": row[\"level\"],\n",
        "                                \"type\": row[\"type\"],\n",
        "                                \"youtube\": row[\"youtube\"],\n",
        "                                \"sets\": rep_ranges[req.goal],\n",
        "                                \"score\": float(row[\"score\"])\n",
        "                            })\n",
        "                    else:\n",
        "                        recs.append({\"message\": f\"{part} 부위에 대한 추천 결과가 없습니다.\"})\n",
        "\n",
        "                except Exception as e:\n",
        "                    print(f\"[ERROR: part {part}]\", str(e))\n",
        "                    traceback.print_exc()\n",
        "                    recs.append({\"message\": f\"{part} 부위 처리 중 오류 발생.\"})\n",
        "\n",
        "            schedule[f\"Day{i}\"] = {\"target_parts\": parts, \"exercises\": recs}\n",
        "\n",
        "        return {\"schedule\": schedule}\n",
        "\n",
        "    except Exception as e:\n",
        "        print(\"[SERVER ERROR]\", str(e))\n",
        "        traceback.print_exc()\n",
        "        raise HTTPException(status_code=500, detail=\"Internal server error\")"
      ],
      "metadata": {
        "id": "xAzs5zSeDCZ6"
      },
      "execution_count": null,
      "outputs": []
    },
    {
      "cell_type": "code",
      "source": [
        "public_url = ngrok.connect(8000)\n",
        "print(f\"Swagger UI: {public_url}/docs\")\n",
        "\n",
        "uvicorn.run(app, host=\"0.0.0.0\", port=8000)"
      ],
      "metadata": {
        "colab": {
          "base_uri": "https://localhost:8080/"
        },
        "id": "S4NqjkfqDJeY",
        "outputId": "07980551-dbf2-4af1-d7de-bc5782629c6b"
      },
      "execution_count": null,
      "outputs": [
        {
          "output_type": "stream",
          "name": "stdout",
          "text": [
            "Swagger UI: NgrokTunnel: \"https://2193-34-41-42-175.ngrok-free.app\" -> \"http://localhost:8000\"/docs\n"
          ]
        },
        {
          "output_type": "stream",
          "name": "stderr",
          "text": [
            "INFO:     Started server process [948]\n",
            "INFO:     Waiting for application startup.\n",
            "INFO:     Application startup complete.\n",
            "INFO:     Uvicorn running on http://0.0.0.0:8000 (Press CTRL+C to quit)\n"
          ]
        },
        {
          "output_type": "stream",
          "name": "stdout",
          "text": [
            "INFO:     1.241.21.88:0 - \"GET /docs HTTP/1.1\" 200 OK\n",
            "INFO:     1.241.21.88:0 - \"GET /openapi.json HTTP/1.1\" 200 OK\n",
            "INFO:     1.241.21.88:0 - \"POST /recommend HTTP/1.1\" 200 OK\n"
          ]
        },
        {
          "output_type": "stream",
          "name": "stderr",
          "text": [
            "INFO:     Shutting down\n",
            "INFO:     Waiting for application shutdown.\n",
            "INFO:     Application shutdown complete.\n",
            "INFO:     Finished server process [948]\n"
          ]
        }
      ]
    },
    {
      "cell_type": "code",
      "source": [
        "{\n",
        "  \"goal\": \"fat_loss\",\n",
        "  \"preferred_parts\": [\"하체\", \"전신\"],\n",
        "  \"level\": \"beginner\",\n",
        "  \"frequency_per_week\": 3\n",
        "}"
      ],
      "metadata": {
        "id": "hpAxTCP9EJcZ"
      },
      "execution_count": null,
      "outputs": []
    }
  ]
}